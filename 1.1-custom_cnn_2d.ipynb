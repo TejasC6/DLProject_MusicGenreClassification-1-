{
 "cells": [
  {
   "cell_type": "code",
   "execution_count": 3,
   "metadata": {},
   "outputs": [],
   "source": [
    "import os\n",
    "import h5py\n",
    "import librosa\n",
    "import itertools\n",
    "from copy import copy\n",
    "import numpy as np\n",
    "import matplotlib.pyplot as plt\n",
    "from collections import OrderedDict\n",
    "from sklearn.model_selection import train_test_split\n",
    "from sklearn.metrics import confusion_matrix"
   ]
  },
  {
   "cell_type": "code",
   "execution_count": 4,
   "metadata": {},
   "outputs": [],
   "source": [
    "import tensorflow as tf\n",
    "from tensorflow.keras.utils import to_categorical\n",
    "from tensorflow.keras.models import Model\n",
    "from tensorflow.keras.layers import Input\n",
    "from tensorflow.keras.models import Sequential\n",
    "from tensorflow.keras.layers import Add\n",
    "from tensorflow.keras.layers import Dense\n",
    "from tensorflow.keras.layers import Activation\n",
    "from tensorflow.keras.layers import PReLU\n",
    "from tensorflow.keras.layers import Conv2D\n",
    "from tensorflow.keras.layers import MaxPooling2D\n",
    "from tensorflow.keras.layers import AveragePooling2D\n",
    "from tensorflow.keras.layers import GlobalAveragePooling2D\n",
    "from tensorflow.keras.layers import GlobalMaxPooling2D\n",
    "from tensorflow.keras.layers import Dropout\n",
    "from tensorflow.keras.layers import Flatten\n",
    "from tensorflow.keras.layers import BatchNormalization\n",
    "from tensorflow.keras.callbacks import ReduceLROnPlateau"
   ]
  },
  {
   "cell_type": "code",
   "execution_count": 5,
   "metadata": {},
   "outputs": [],
   "source": [
    "# For reproducibility purposes\n",
    "np.random.seed(42)"
   ]
  },
  {
   "cell_type": "markdown",
   "metadata": {},
   "source": [
    "# Read the data\n",
    "\n",
    "> Helper functions to assist the process to read songs, split then and return an array of spectrograms/melspectrograms"
   ]
  },
  {
   "cell_type": "code",
   "execution_count": 6,
   "metadata": {},
   "outputs": [],
   "source": [
    "\"\"\"\n",
    "@description: Method to split a song into multiple songs using overlapping windows\n",
    "\"\"\"\n",
    "def splitsongs(X, y, window = 0.05, overlap = 0.5):\n",
    "    # Empty lists to hold our results\n",
    "    temp_X = []\n",
    "    temp_y = []\n",
    "\n",
    "    # Get the input song array size\n",
    "    xshape = X.shape[0]\n",
    "    chunk = int(xshape*window)\n",
    "    offset = int(chunk*(1.-overlap))\n",
    "    \n",
    "    # Split the song and create new ones on windows\n",
    "    spsong = [X[i:i+chunk] for i in range(0, xshape - chunk + offset, offset)]\n",
    "    for s in spsong:\n",
    "        if s.shape[0] != chunk:\n",
    "            continue\n",
    "\n",
    "        temp_X.append(s)\n",
    "        temp_y.append(y)\n",
    "\n",
    "    return np.array(temp_X), np.array(temp_y)"
   ]
  },
  {
   "cell_type": "code",
   "execution_count": 7,
   "metadata": {},
   "outputs": [],
   "source": [
    "\"\"\"\n",
    "@description: Method to convert a list of songs to a np array of melspectrograms\n",
    "\"\"\"\n",
    "def to_melspectrogram(songs, n_fft=1024, hop_length=256):\n",
    "    # Transformation function\n",
    "    melspec = lambda x: librosa.feature.melspectrogram(x, n_fft=n_fft,\n",
    "        hop_length=hop_length, n_mels=128)[:,:,np.newaxis]\n",
    "\n",
    "    # map transformation of input songs to melspectrogram using log-scale\n",
    "    tsongs = map(melspec, songs)\n",
    "    # np.array([librosa.power_to_db(s, ref=np.max) for s in list(tsongs)])\n",
    "    return np.array(list(tsongs))"
   ]
  },
  {
   "cell_type": "code",
   "execution_count": 8,
   "metadata": {},
   "outputs": [],
   "source": [
    "def split_convert(X, y):\n",
    "    arr_specs, arr_genres = [], []\n",
    "    \n",
    "    # Convert to spectrograms and split into small windows\n",
    "    for fn, genre in zip(X, y):\n",
    "        signal, sr = librosa.load(fn)\n",
    "        signal = signal[:song_samples]\n",
    "\n",
    "        # Convert to dataset of spectograms/melspectograms\n",
    "        signals, y = splitsongs(signal, genre)\n",
    "\n",
    "        # Convert to \"spec\" representation\n",
    "        specs = to_melspectrogram(signals)\n",
    "\n",
    "        # Save files\n",
    "        arr_genres.extend(y)\n",
    "        arr_specs.extend(specs)\n",
    "    \n",
    "    return np.array(arr_specs), to_categorical(arr_genres)"
   ]
  },
  {
   "cell_type": "code",
   "execution_count": 9,
   "metadata": {},
   "outputs": [],
   "source": [
    "def read_data(src_dir, genres, song_samples):    \n",
    "    # Empty array of dicts with the processed features from all files\n",
    "    arr_fn = []\n",
    "    arr_genres = []\n",
    "\n",
    "    # Get file list from the folders\n",
    "    for x,_ in genres.items():\n",
    "        folder = src_dir + x\n",
    "        for root, subdirs, files in os.walk(folder):\n",
    "            for file in files:\n",
    "                file_name = folder + \"/\" + file\n",
    "\n",
    "                # Save the file name and the genre\n",
    "                arr_fn.append(file_name)\n",
    "                arr_genres.append(genres[x])\n",
    "    \n",
    "    # Split into train and test\n",
    "    X_train, X_test, y_train, y_test = train_test_split(\n",
    "        arr_fn, arr_genres, test_size=0.3, random_state=42, stratify=arr_genres\n",
    "    )\n",
    "    \n",
    "    # Split into small segments and convert to spectrogram\n",
    "    X_train, y_train = split_convert(X_train, y_train)\n",
    "    X_test, y_test = split_convert(X_test, y_test)\n",
    "\n",
    "    return X_train, X_test, y_train, y_test"
   ]
  },
  {
   "cell_type": "code",
   "execution_count": 17,
   "metadata": {},
   "outputs": [],
   "source": [
    "# Parameters\n",
    "gtzan_dir = 'data1/genres/'\n",
    "song_samples = 660000\n",
    "genres = {'metal': 0, 'disco': 1, 'classical': 2, 'hiphop': 3, 'jazz': 4, \n",
    "          'country': 5, 'pop': 6, 'blues': 7, 'reggae': 8, 'rock': 9}\n",
    "\n",
    "# Read the data\n",
    "X_train, X_test, y_train, y_test = read_data(gtzan_dir, genres, song_samples)"
   ]
  },
  {
   "cell_type": "code",
   "execution_count": 18,
   "metadata": {},
   "outputs": [
    {
     "name": "stdout",
     "output_type": "stream",
     "text": [
      "(27261, 128, 129, 1) (11700, 128, 129, 1) (27261, 10) (11700, 10)\n"
     ]
    }
   ],
   "source": [
    "print(X_train.shape, X_test.shape, y_train.shape, y_test.shape)"
   ]
  },
  {
   "cell_type": "code",
   "execution_count": 19,
   "metadata": {},
   "outputs": [
    {
     "data": {
      "image/png": "[encoded data removed]",
      "text/plain": [
       "<Figure size 432x288 with 1 Axes>"
      ]
     },
     "metadata": {
      "needs_background": "light"
     },
     "output_type": "display_data"
    }
   ],
   "source": [
    "# Histogram for train and test \n",
    "values, count = np.unique(np.argmax(y_train, axis=1), return_counts=True)\n",
    "plt.bar(values, count)\n",
    "\n",
    "values, count = np.unique(np.argmax(y_test, axis=1), return_counts=True)\n",
    "plt.bar(values, count)\n",
    "plt.show()"
   ]
  },
  {
   "cell_type": "markdown",
   "metadata": {},
   "source": [
    "# GTZAN Melspectrogram Generator"
   ]
  },
  {
   "cell_type": "code",
   "execution_count": 20,
   "metadata": {},
   "outputs": [],
   "source": [
    "from tensorflow.keras.utils import Sequence\n",
    "\n",
    "class GTZANGenerator(Sequence):\n",
    "    def __init__(self, X, y, batch_size=64, is_test = False):\n",
    "        self.X = X\n",
    "        self.y = y\n",
    "        self.batch_size = batch_size\n",
    "        self.is_test = is_test\n",
    "    \n",
    "    def __len__(self):\n",
    "        return int(np.ceil(len(self.X)/self.batch_size))\n",
    "    \n",
    "    def __getitem__(self, index):\n",
    "        # Get batch indexes\n",
    "        signals = self.X[index*self.batch_size:(index+1)*self.batch_size]\n",
    "\n",
    "        # Apply data augmentation\n",
    "        if not self.is_test:\n",
    "            signals = self.__augment(signals)\n",
    "        return signals, self.y[index*self.batch_size:(index+1)*self.batch_size]\n",
    "    \n",
    "    def __augment(self, signals, hor_flip = 0.5, random_cutout = 0.5):\n",
    "        spectrograms =  []\n",
    "        for s in signals:\n",
    "            signal = copy(s)\n",
    "            \n",
    "            # Perform horizontal flip\n",
    "            if np.random.rand() < hor_flip:\n",
    "                signal = np.flip(signal, 1)\n",
    "\n",
    "            # Perform random cutoout of some frequency/time\n",
    "            if np.random.rand() < random_cutout:\n",
    "                lines = np.random.randint(signal.shape[0], size=3)\n",
    "                cols = np.random.randint(signal.shape[0], size=4)\n",
    "                signal[lines, :, :] = -80 # dB\n",
    "                signal[:, cols, :] = -80 # dB\n",
    "\n",
    "            spectrograms.append(signal)\n",
    "        return np.array(spectrograms)\n",
    "    \n",
    "    def on_epoch_end(self):\n",
    "        self.indexes = np.arange(len(self.X))\n",
    "        np.random.shuffle(self.indexes)\n",
    "        return None"
   ]
  },
  {
   "cell_type": "markdown",
   "metadata": {},
   "source": [
    "# Custom CNN (Melspectrogram version)"
   ]
  },
  {
   "cell_type": "code",
   "execution_count": 21,
   "metadata": {},
   "outputs": [],
   "source": [
    "def conv_block(x, n_filters, pool_size=(2, 2)):\n",
    "    x = Conv2D(n_filters, (3, 3), strides=(1, 1), padding='same')(x)\n",
    "    x = Activation('relu')(x)\n",
    "    x = MaxPooling2D(pool_size=pool_size, strides=pool_size)(x)\n",
    "    x = Dropout(0.25)(x)\n",
    "    return x"
   ]
  },
  {
   "cell_type": "code",
   "execution_count": 22,
   "metadata": {},
   "outputs": [],
   "source": [
    "# Model Definition\n",
    "def create_model(input_shape, num_genres):\n",
    "    inpt = Input(shape=input_shape)\n",
    "    x = conv_block(inpt, 16)\n",
    "    x = conv_block(x, 32)\n",
    "    x = conv_block(x, 64)\n",
    "    x = conv_block(x, 128)\n",
    "    x = conv_block(x, 256)\n",
    "    \n",
    "    # Global Pooling and MLP\n",
    "    x = Flatten()(x)\n",
    "    x = Dropout(0.5)(x)\n",
    "    x = Dense(512, activation='relu', \n",
    "              kernel_regularizer=tf.keras.regularizers.l2(0.02))(x)\n",
    "    x = Dropout(0.25)(x)\n",
    "    predictions = Dense(num_genres, \n",
    "                        activation='softmax', \n",
    "                        kernel_regularizer=tf.keras.regularizers.l2(0.02))(x)\n",
    "    \n",
    "    model = Model(inputs=inpt, outputs=predictions)\n",
    "    return model"
   ]
  },
  {
   "cell_type": "code",
   "execution_count": 23,
   "metadata": {},
   "outputs": [],
   "source": [
    "model = create_model(X_train[0].shape, 10)"
   ]
  },
  {
   "cell_type": "code",
   "execution_count": 24,
   "metadata": {},
   "outputs": [
    {
     "name": "stdout",
     "output_type": "stream",
     "text": [
      "Model: \"model\"\n",
      "_________________________________________________________________\n",
      "Layer (type)                 Output Shape              Param #   \n",
      "=================================================================\n",
      "input_1 (InputLayer)         [(None, 128, 129, 1)]     0         \n",
      "_________________________________________________________________\n",
      "conv2d (Conv2D)              (None, 128, 129, 16)      160       \n",
      "_________________________________________________________________\n",
      "activation (Activation)      (None, 128, 129, 16)      0         \n",
      "_________________________________________________________________\n",
      "max_pooling2d (MaxPooling2D) (None, 64, 64, 16)        0         \n",
      "_________________________________________________________________\n",
      "dropout (Dropout)            (None, 64, 64, 16)        0         \n",
      "_________________________________________________________________\n",
      "conv2d_1 (Conv2D)            (None, 64, 64, 32)        4640      \n",
      "_________________________________________________________________\n",
      "activation_1 (Activation)    (None, 64, 64, 32)        0         \n",
      "_________________________________________________________________\n",
      "max_pooling2d_1 (MaxPooling2 (None, 32, 32, 32)        0         \n",
      "_________________________________________________________________\n",
      "dropout_1 (Dropout)          (None, 32, 32, 32)        0         \n",
      "_________________________________________________________________\n",
      "conv2d_2 (Conv2D)            (None, 32, 32, 64)        18496     \n",
      "_________________________________________________________________\n",
      "activation_2 (Activation)    (None, 32, 32, 64)        0         \n",
      "_________________________________________________________________\n",
      "max_pooling2d_2 (MaxPooling2 (None, 16, 16, 64)        0         \n",
      "_________________________________________________________________\n",
      "dropout_2 (Dropout)          (None, 16, 16, 64)        0         \n",
      "_________________________________________________________________\n",
      "conv2d_3 (Conv2D)            (None, 16, 16, 128)       73856     \n",
      "_________________________________________________________________\n",
      "activation_3 (Activation)    (None, 16, 16, 128)       0         \n",
      "_________________________________________________________________\n",
      "max_pooling2d_3 (MaxPooling2 (None, 8, 8, 128)         0         \n",
      "_________________________________________________________________\n",
      "dropout_3 (Dropout)          (None, 8, 8, 128)         0         \n",
      "_________________________________________________________________\n",
      "conv2d_4 (Conv2D)            (None, 8, 8, 256)         295168    \n",
      "_________________________________________________________________\n",
      "activation_4 (Activation)    (None, 8, 8, 256)         0         \n",
      "_________________________________________________________________\n",
      "max_pooling2d_4 (MaxPooling2 (None, 4, 4, 256)         0         \n",
      "_________________________________________________________________\n",
      "dropout_4 (Dropout)          (None, 4, 4, 256)         0         \n",
      "_________________________________________________________________\n",
      "flatten (Flatten)            (None, 4096)              0         \n",
      "_________________________________________________________________\n",
      "dropout_5 (Dropout)          (None, 4096)              0         \n",
      "_________________________________________________________________\n",
      "dense (Dense)                (None, 512)               2097664   \n",
      "_________________________________________________________________\n",
      "dropout_6 (Dropout)          (None, 512)               0         \n",
      "_________________________________________________________________\n",
      "dense_1 (Dense)              (None, 10)                5130      \n",
      "=================================================================\n",
      "Total params: 2,495,114\n",
      "Trainable params: 2,495,114\n",
      "Non-trainable params: 0\n",
      "_________________________________________________________________\n"
     ]
    }
   ],
   "source": [
    "model.summary()"
   ]
  },
  {
   "cell_type": "markdown",
   "metadata": {},
   "source": [
    "### Loss function"
   ]
  },
  {
   "cell_type": "code",
   "execution_count": 25,
   "metadata": {},
   "outputs": [],
   "source": [
    "model.compile(loss=tf.keras.losses.categorical_crossentropy,\n",
    "              optimizer=tf.keras.optimizers.Adam(),\n",
    "              metrics=['accuracy'])"
   ]
  },
  {
   "cell_type": "code",
   "execution_count": 26,
   "metadata": {},
   "outputs": [],
   "source": [
    "reduceLROnPlat = ReduceLROnPlateau(\n",
    "    monitor='val_loss', \n",
    "    factor=0.95,\n",
    "    patience=3,\n",
    "    verbose=1,\n",
    "    mode='min',\n",
    "    min_delta=0.0001,\n",
    "    cooldown=2,\n",
    "    min_lr=1e-5\n",
    ")"
   ]
  },
  {
   "cell_type": "code",
   "execution_count": 27,
   "metadata": {},
   "outputs": [],
   "source": [
    "# Generators\n",
    "batch_size = 128\n",
    "train_generator = GTZANGenerator(X_train, y_train)\n",
    "steps_per_epoch = np.ceil(len(X_train)/batch_size)\n",
    "\n",
    "validation_generator = GTZANGenerator(X_test, y_test)\n",
    "val_steps = np.ceil(len(X_test)/batch_size)"
   ]
  },
  {
   "cell_type": "code",
   "execution_count": 28,
   "metadata": {
    "scrolled": true
   },
   "outputs": [
    {
     "name": "stderr",
     "output_type": "stream",
     "text": [
      "D:\\AnacondaInstall\\envs\\tensorflow_env\\lib\\site-packages\\tensorflow\\python\\keras\\engine\\training.py:1969: UserWarning: `Model.fit_generator` is deprecated and will be removed in a future version. Please use `Model.fit`, which supports generators.\n",
      "  warnings.warn('`Model.fit_generator` is deprecated and '\n"
     ]
    },
    {
     "name": "stdout",
     "output_type": "stream",
     "text": [
      "Epoch 1/150\n",
      "213/213 [==============================] - 99s 451ms/step - loss: 11.1447 - accuracy: 0.1370 - val_loss: 5.2083 - val_accuracy: 0.2055\n",
      "Epoch 2/150\n",
      "213/213 [==============================] - 92s 434ms/step - loss: 3.8153 - accuracy: 0.1822 - val_loss: 2.9749 - val_accuracy: 0.1810\n",
      "Epoch 3/150\n",
      "213/213 [==============================] - 94s 442ms/step - loss: 2.6421 - accuracy: 0.2107 - val_loss: 2.4262 - val_accuracy: 0.1766\n",
      "Epoch 4/150\n",
      "213/213 [==============================] - 95s 447ms/step - loss: 2.3535 - accuracy: 0.1913 - val_loss: 2.1965 - val_accuracy: 0.2191\n",
      "Epoch 5/150\n",
      "213/213 [==============================] - 94s 441ms/step - loss: 2.2047 - accuracy: 0.2194 - val_loss: 2.1986 - val_accuracy: 0.1770\n",
      "Epoch 6/150\n",
      "213/213 [==============================] - 97s 453ms/step - loss: 2.1292 - accuracy: 0.2392 - val_loss: 2.1222 - val_accuracy: 0.1951\n",
      "Epoch 7/150\n",
      "213/213 [==============================] - 94s 442ms/step - loss: 2.1284 - accuracy: 0.2295 - val_loss: 1.9932 - val_accuracy: 0.2582\n",
      "Epoch 8/150\n",
      "213/213 [==============================] - 95s 445ms/step - loss: 2.1015 - accuracy: 0.2277 - val_loss: 2.0662 - val_accuracy: 0.2415\n",
      "Epoch 9/150\n",
      "213/213 [==============================] - 97s 455ms/step - loss: 2.0519 - accuracy: 0.2551 - val_loss: 1.9717 - val_accuracy: 0.2673\n",
      "Epoch 10/150\n",
      "213/213 [==============================] - 94s 443ms/step - loss: 2.0073 - accuracy: 0.2876 - val_loss: 1.9732 - val_accuracy: 0.2451\n",
      "Epoch 11/150\n",
      "213/213 [==============================] - 91s 427ms/step - loss: 2.0324 - accuracy: 0.2592 - val_loss: 2.0130 - val_accuracy: 0.2206\n",
      "Epoch 12/150\n",
      "213/213 [==============================] - 96s 448ms/step - loss: 2.0423 - accuracy: 0.2608 - val_loss: 1.9441 - val_accuracy: 0.2571\n",
      "Epoch 13/150\n",
      "213/213 [==============================] - 97s 453ms/step - loss: 1.9816 - accuracy: 0.2809 - val_loss: 1.9726 - val_accuracy: 0.2639\n",
      "Epoch 14/150\n",
      "213/213 [==============================] - 97s 457ms/step - loss: 1.9573 - accuracy: 0.2581 - val_loss: 1.9857 - val_accuracy: 0.2942\n",
      "Epoch 15/150\n",
      "213/213 [==============================] - 93s 435ms/step - loss: 1.9920 - accuracy: 0.2903 - val_loss: 1.8853 - val_accuracy: 0.3062\n",
      "Epoch 16/150\n",
      "213/213 [==============================] - 99s 464ms/step - loss: 1.9073 - accuracy: 0.3263 - val_loss: 1.8241 - val_accuracy: 0.3207\n",
      "Epoch 17/150\n",
      "213/213 [==============================] - 99s 466ms/step - loss: 1.9770 - accuracy: 0.3204 - val_loss: 1.8863 - val_accuracy: 0.3227\n",
      "Epoch 18/150\n",
      "213/213 [==============================] - 97s 455ms/step - loss: 1.9199 - accuracy: 0.3170 - val_loss: 1.8518 - val_accuracy: 0.3869\n",
      "Epoch 19/150\n",
      "213/213 [==============================] - 93s 437ms/step - loss: 1.8431 - accuracy: 0.3478 - val_loss: 1.8589 - val_accuracy: 0.3395\n",
      "\n",
      "Epoch 00019: ReduceLROnPlateau reducing learning rate to 0.0009500000451225787.\n",
      "Epoch 20/150\n",
      "213/213 [==============================] - 98s 458ms/step - loss: 1.9102 - accuracy: 0.3399 - val_loss: 1.7385 - val_accuracy: 0.4052\n",
      "Epoch 21/150\n",
      "213/213 [==============================] - 96s 451ms/step - loss: 1.8534 - accuracy: 0.3534 - val_loss: 1.7336 - val_accuracy: 0.4122\n",
      "Epoch 22/150\n",
      "213/213 [==============================] - 94s 440ms/step - loss: 1.7801 - accuracy: 0.3907 - val_loss: 1.7597 - val_accuracy: 0.4025\n",
      "Epoch 23/150\n",
      "213/213 [==============================] - 97s 456ms/step - loss: 1.7948 - accuracy: 0.3845 - val_loss: 1.6947 - val_accuracy: 0.4358\n",
      "Epoch 24/150\n",
      "213/213 [==============================] - 96s 451ms/step - loss: 1.8106 - accuracy: 0.3928 - val_loss: 1.8688 - val_accuracy: 0.3392\n",
      "Epoch 25/150\n",
      "213/213 [==============================] - 96s 453ms/step - loss: 1.7740 - accuracy: 0.3985 - val_loss: 1.7445 - val_accuracy: 0.3782\n",
      "Epoch 26/150\n",
      "213/213 [==============================] - 396s 2s/step - loss: 1.7890 - accuracy: 0.3867 - val_loss: 1.7457 - val_accuracy: 0.4215\n",
      "\n",
      "Epoch 00026: ReduceLROnPlateau reducing learning rate to 0.0009025000152178108.\n",
      "Epoch 27/150\n",
      "213/213 [==============================] - 102s 480ms/step - loss: 1.7273 - accuracy: 0.4090 - val_loss: 1.8063 - val_accuracy: 0.4146\n",
      "Epoch 28/150\n",
      "213/213 [==============================] - 103s 485ms/step - loss: 1.7514 - accuracy: 0.4025 - val_loss: 1.7393 - val_accuracy: 0.4161\n",
      "Epoch 29/150\n",
      "213/213 [==============================] - 115s 539ms/step - loss: 1.7555 - accuracy: 0.3953 - val_loss: 1.7467 - val_accuracy: 0.4130\n",
      "Epoch 30/150\n",
      "213/213 [==============================] - 101s 472ms/step - loss: 1.7065 - accuracy: 0.4388 - val_loss: 1.6637 - val_accuracy: 0.4406\n",
      "Epoch 31/150\n",
      "213/213 [==============================] - 100s 470ms/step - loss: 1.6411 - accuracy: 0.4506 - val_loss: 1.6462 - val_accuracy: 0.4338\n",
      "Epoch 32/150\n",
      "213/213 [==============================] - 96s 450ms/step - loss: 1.6863 - accuracy: 0.4418 - val_loss: 1.6659 - val_accuracy: 0.4283\n",
      "Epoch 33/150\n",
      "213/213 [==============================] - 91s 428ms/step - loss: 1.6524 - accuracy: 0.4479 - val_loss: 1.7000 - val_accuracy: 0.4237\n",
      "Epoch 34/150\n",
      "213/213 [==============================] - 96s 452ms/step - loss: 1.6627 - accuracy: 0.4423 - val_loss: 1.5649 - val_accuracy: 0.4674\n",
      "Epoch 35/150\n",
      "213/213 [==============================] - 100s 467ms/step - loss: 1.6520 - accuracy: 0.4588 - val_loss: 1.6317 - val_accuracy: 0.4577\n",
      "Epoch 36/150\n",
      "213/213 [==============================] - 98s 459ms/step - loss: 1.5281 - accuracy: 0.4914 - val_loss: 1.6033 - val_accuracy: 0.4891\n",
      "Epoch 37/150\n",
      "213/213 [==============================] - 97s 454ms/step - loss: 1.6006 - accuracy: 0.4777 - val_loss: 1.5644 - val_accuracy: 0.4759\n",
      "Epoch 38/150\n",
      "213/213 [==============================] - 98s 461ms/step - loss: 1.6434 - accuracy: 0.4473 - val_loss: 1.5412 - val_accuracy: 0.5037\n",
      "Epoch 39/150\n",
      "213/213 [==============================] - 94s 439ms/step - loss: 1.6146 - accuracy: 0.4655 - val_loss: 1.5188 - val_accuracy: 0.4981\n",
      "Epoch 40/150\n",
      "213/213 [==============================] - 99s 464ms/step - loss: 1.5801 - accuracy: 0.4843 - val_loss: 1.5500 - val_accuracy: 0.5058\n",
      "Epoch 41/150\n",
      "213/213 [==============================] - 99s 467ms/step - loss: 1.5713 - accuracy: 0.4992 - val_loss: 1.5459 - val_accuracy: 0.4840\n",
      "Epoch 42/150\n",
      "213/213 [==============================] - 102s 479ms/step - loss: 1.5532 - accuracy: 0.4906 - val_loss: 1.5298 - val_accuracy: 0.4825\n",
      "\n",
      "Epoch 00042: ReduceLROnPlateau reducing learning rate to 0.0008573750033974647.\n",
      "Epoch 43/150\n",
      "213/213 [==============================] - 101s 474ms/step - loss: 1.5572 - accuracy: 0.4971 - val_loss: 1.5505 - val_accuracy: 0.4747\n",
      "Epoch 44/150\n",
      "213/213 [==============================] - 101s 474ms/step - loss: 1.5560 - accuracy: 0.4905 - val_loss: 1.5009 - val_accuracy: 0.5306\n",
      "Epoch 45/150\n",
      "213/213 [==============================] - 96s 452ms/step - loss: 1.5122 - accuracy: 0.5099 - val_loss: 1.4968 - val_accuracy: 0.5296\n",
      "Epoch 46/150\n",
      "213/213 [==============================] - 98s 460ms/step - loss: 1.5229 - accuracy: 0.5003 - val_loss: 1.5229 - val_accuracy: 0.4961\n",
      "Epoch 47/150\n",
      "213/213 [==============================] - 96s 449ms/step - loss: 1.5246 - accuracy: 0.5154 - val_loss: 1.4757 - val_accuracy: 0.5397\n",
      "Epoch 48/150\n",
      "213/213 [==============================] - 95s 447ms/step - loss: 1.4897 - accuracy: 0.5196 - val_loss: 1.5401 - val_accuracy: 0.5246\n",
      "Epoch 49/150\n",
      "213/213 [==============================] - 95s 448ms/step - loss: 1.4289 - accuracy: 0.5471 - val_loss: 1.5076 - val_accuracy: 0.5360\n",
      "Epoch 50/150\n",
      "213/213 [==============================] - 94s 440ms/step - loss: 1.4453 - accuracy: 0.5490 - val_loss: 1.3857 - val_accuracy: 0.5708\n",
      "Epoch 51/150\n",
      "213/213 [==============================] - 96s 450ms/step - loss: 1.4445 - accuracy: 0.5366 - val_loss: 1.4472 - val_accuracy: 0.5357\n",
      "Epoch 52/150\n",
      "213/213 [==============================] - 95s 447ms/step - loss: 1.4461 - accuracy: 0.5332 - val_loss: 1.5013 - val_accuracy: 0.5206\n",
      "Epoch 53/150\n",
      "213/213 [==============================] - 95s 447ms/step - loss: 1.4123 - accuracy: 0.5477 - val_loss: 1.4323 - val_accuracy: 0.5314\n",
      "\n",
      "Epoch 00053: ReduceLROnPlateau reducing learning rate to 0.0008145062311086804.\n",
      "Epoch 54/150\n",
      "213/213 [==============================] - 96s 451ms/step - loss: 1.4635 - accuracy: 0.5409 - val_loss: 1.4295 - val_accuracy: 0.5377\n",
      "Epoch 55/150\n",
      "213/213 [==============================] - 97s 455ms/step - loss: 1.3959 - accuracy: 0.5600 - val_loss: 1.3611 - val_accuracy: 0.5812\n",
      "Epoch 56/150\n",
      "213/213 [==============================] - 96s 451ms/step - loss: 1.4313 - accuracy: 0.5407 - val_loss: 1.3226 - val_accuracy: 0.5926\n",
      "Epoch 57/150\n",
      "213/213 [==============================] - 96s 450ms/step - loss: 1.3798 - accuracy: 0.5650 - val_loss: 1.3997 - val_accuracy: 0.5712\n",
      "Epoch 58/150\n",
      "213/213 [==============================] - 95s 447ms/step - loss: 1.3775 - accuracy: 0.5654 - val_loss: 1.3170 - val_accuracy: 0.5730\n",
      "Epoch 59/150\n",
      "213/213 [==============================] - 96s 449ms/step - loss: 1.3740 - accuracy: 0.5611 - val_loss: 1.3775 - val_accuracy: 0.5630\n",
      "Epoch 60/150\n",
      "213/213 [==============================] - 96s 451ms/step - loss: 1.3917 - accuracy: 0.5551 - val_loss: 1.3726 - val_accuracy: 0.5498\n",
      "Epoch 61/150\n",
      "213/213 [==============================] - 96s 453ms/step - loss: 1.3714 - accuracy: 0.5725 - val_loss: 1.3565 - val_accuracy: 0.5812\n",
      "\n",
      "Epoch 00061: ReduceLROnPlateau reducing learning rate to 0.0007737808919046074.\n",
      "Epoch 62/150\n",
      "213/213 [==============================] - 93s 437ms/step - loss: 1.3883 - accuracy: 0.5697 - val_loss: 1.4324 - val_accuracy: 0.5423\n",
      "Epoch 63/150\n",
      "213/213 [==============================] - 97s 453ms/step - loss: 1.3674 - accuracy: 0.5810 - val_loss: 1.3729 - val_accuracy: 0.5722\n",
      "Epoch 64/150\n",
      "213/213 [==============================] - 96s 451ms/step - loss: 1.3680 - accuracy: 0.5681 - val_loss: 1.3809 - val_accuracy: 0.5562\n",
      "Epoch 65/150\n",
      "213/213 [==============================] - 95s 445ms/step - loss: 1.3518 - accuracy: 0.5808 - val_loss: 1.4710 - val_accuracy: 0.5010\n",
      "\n",
      "Epoch 00065: ReduceLROnPlateau reducing learning rate to 0.000735091819660738.\n",
      "Epoch 66/150\n",
      "213/213 [==============================] - 96s 450ms/step - loss: 1.2864 - accuracy: 0.6006 - val_loss: 1.2780 - val_accuracy: 0.6046\n",
      "Epoch 67/150\n",
      "213/213 [==============================] - 94s 439ms/step - loss: 1.2856 - accuracy: 0.6141 - val_loss: 1.3479 - val_accuracy: 0.5628\n",
      "Epoch 68/150\n",
      "213/213 [==============================] - 96s 450ms/step - loss: 1.3268 - accuracy: 0.5865 - val_loss: 1.3504 - val_accuracy: 0.5812\n",
      "Epoch 69/150\n",
      "213/213 [==============================] - 98s 458ms/step - loss: 1.3233 - accuracy: 0.5874 - val_loss: 1.3207 - val_accuracy: 0.5898\n",
      "\n",
      "Epoch 00069: ReduceLROnPlateau reducing learning rate to 0.0006983372120885178.\n",
      "Epoch 70/150\n",
      "213/213 [==============================] - 96s 453ms/step - loss: 1.3076 - accuracy: 0.5997 - val_loss: 1.3024 - val_accuracy: 0.6043\n",
      "Epoch 71/150\n",
      "213/213 [==============================] - 95s 447ms/step - loss: 1.3031 - accuracy: 0.5991 - val_loss: 1.4060 - val_accuracy: 0.5392\n",
      "Epoch 72/150\n",
      "213/213 [==============================] - 95s 446ms/step - loss: 1.2494 - accuracy: 0.6154 - val_loss: 1.3407 - val_accuracy: 0.5825\n",
      "Epoch 73/150\n",
      "213/213 [==============================] - 97s 457ms/step - loss: 1.3100 - accuracy: 0.5940 - val_loss: 1.3032 - val_accuracy: 0.5897\n",
      "\n",
      "Epoch 00073: ReduceLROnPlateau reducing learning rate to 0.0006634203542489559.\n",
      "Epoch 74/150\n",
      "213/213 [==============================] - 95s 447ms/step - loss: 1.2763 - accuracy: 0.6128 - val_loss: 1.2618 - val_accuracy: 0.6216\n",
      "Epoch 75/150\n",
      "213/213 [==============================] - 94s 443ms/step - loss: 1.2313 - accuracy: 0.6241 - val_loss: 1.3546 - val_accuracy: 0.5718\n",
      "Epoch 76/150\n",
      "213/213 [==============================] - 95s 444ms/step - loss: 1.2030 - accuracy: 0.6324 - val_loss: 1.2692 - val_accuracy: 0.6077\n",
      "Epoch 77/150\n",
      "213/213 [==============================] - 95s 447ms/step - loss: 1.2677 - accuracy: 0.6081 - val_loss: 1.3194 - val_accuracy: 0.5837\n",
      "\n",
      "Epoch 00077: ReduceLROnPlateau reducing learning rate to 0.0006302493420662358.\n",
      "Epoch 78/150\n",
      "213/213 [==============================] - 94s 439ms/step - loss: 1.2128 - accuracy: 0.6322 - val_loss: 1.2583 - val_accuracy: 0.6107\n",
      "Epoch 79/150\n",
      "213/213 [==============================] - 95s 446ms/step - loss: 1.2200 - accuracy: 0.6304 - val_loss: 1.2328 - val_accuracy: 0.6216\n",
      "Epoch 80/150\n",
      "213/213 [==============================] - 95s 446ms/step - loss: 1.2092 - accuracy: 0.6260 - val_loss: 1.2709 - val_accuracy: 0.6031\n",
      "Epoch 81/150\n",
      "213/213 [==============================] - 96s 449ms/step - loss: 1.2068 - accuracy: 0.6320 - val_loss: 1.3141 - val_accuracy: 0.5756\n",
      "Epoch 82/150\n",
      "213/213 [==============================] - 95s 447ms/step - loss: 1.2580 - accuracy: 0.6152 - val_loss: 1.4081 - val_accuracy: 0.5542\n",
      "\n",
      "Epoch 00082: ReduceLROnPlateau reducing learning rate to 0.0005987368611386045.\n",
      "Epoch 83/150\n",
      "213/213 [==============================] - 95s 445ms/step - loss: 1.2332 - accuracy: 0.6179 - val_loss: 1.2748 - val_accuracy: 0.6061\n",
      "Epoch 84/150\n",
      "213/213 [==============================] - 96s 452ms/step - loss: 1.2099 - accuracy: 0.6337 - val_loss: 1.3982 - val_accuracy: 0.5593\n",
      "Epoch 85/150\n",
      "213/213 [==============================] - 96s 449ms/step - loss: 1.1911 - accuracy: 0.6281 - val_loss: 1.2497 - val_accuracy: 0.6279\n",
      "Epoch 86/150\n",
      "213/213 [==============================] - 94s 443ms/step - loss: 1.1787 - accuracy: 0.6405 - val_loss: 1.2372 - val_accuracy: 0.6104\n",
      "\n",
      "Epoch 00086: ReduceLROnPlateau reducing learning rate to 0.0005688000208465382.\n",
      "Epoch 87/150\n",
      "213/213 [==============================] - 94s 443ms/step - loss: 1.1565 - accuracy: 0.6541 - val_loss: 1.2402 - val_accuracy: 0.6170\n",
      "Epoch 88/150\n",
      "213/213 [==============================] - 94s 442ms/step - loss: 1.1422 - accuracy: 0.6524 - val_loss: 1.2137 - val_accuracy: 0.6304\n",
      "Epoch 89/150\n",
      "213/213 [==============================] - 95s 444ms/step - loss: 1.1604 - accuracy: 0.6455 - val_loss: 1.2067 - val_accuracy: 0.6350\n",
      "Epoch 90/150\n",
      "213/213 [==============================] - 94s 443ms/step - loss: 1.1861 - accuracy: 0.6294 - val_loss: 1.2396 - val_accuracy: 0.6418\n",
      "Epoch 91/150\n",
      "213/213 [==============================] - 95s 448ms/step - loss: 1.1821 - accuracy: 0.6383 - val_loss: 1.1603 - val_accuracy: 0.6581\n",
      "Epoch 92/150\n",
      "213/213 [==============================] - 95s 446ms/step - loss: 1.1528 - accuracy: 0.6436 - val_loss: 1.3409 - val_accuracy: 0.5747\n",
      "Epoch 93/150\n",
      "213/213 [==============================] - 94s 441ms/step - loss: 1.2045 - accuracy: 0.6256 - val_loss: 1.2050 - val_accuracy: 0.6328\n",
      "Epoch 94/150\n",
      "213/213 [==============================] - 94s 444ms/step - loss: 1.1766 - accuracy: 0.6398 - val_loss: 1.1673 - val_accuracy: 0.6340\n",
      "\n",
      "Epoch 00094: ReduceLROnPlateau reducing learning rate to 0.0005403600225690752.\n",
      "Epoch 95/150\n",
      "213/213 [==============================] - 95s 445ms/step - loss: 1.1656 - accuracy: 0.6488 - val_loss: 1.1337 - val_accuracy: 0.6547\n",
      "Epoch 96/150\n",
      "213/213 [==============================] - 94s 441ms/step - loss: 1.1380 - accuracy: 0.6531 - val_loss: 1.1888 - val_accuracy: 0.6372\n",
      "Epoch 97/150\n",
      "213/213 [==============================] - 95s 445ms/step - loss: 1.1324 - accuracy: 0.6447 - val_loss: 1.1650 - val_accuracy: 0.6476\n",
      "Epoch 98/150\n",
      "213/213 [==============================] - 93s 439ms/step - loss: 1.1076 - accuracy: 0.6711 - val_loss: 1.1874 - val_accuracy: 0.6321\n",
      "\n",
      "Epoch 00098: ReduceLROnPlateau reducing learning rate to 0.0005133419937919825.\n",
      "Epoch 99/150\n",
      "213/213 [==============================] - 94s 441ms/step - loss: 1.1240 - accuracy: 0.6509 - val_loss: 1.1823 - val_accuracy: 0.6347\n",
      "Epoch 100/150\n",
      "213/213 [==============================] - 95s 447ms/step - loss: 1.0544 - accuracy: 0.6728 - val_loss: 1.1473 - val_accuracy: 0.6444\n",
      "Epoch 101/150\n",
      "213/213 [==============================] - 96s 450ms/step - loss: 1.1557 - accuracy: 0.6452 - val_loss: 1.1924 - val_accuracy: 0.6456\n",
      "Epoch 102/150\n",
      "213/213 [==============================] - 97s 457ms/step - loss: 1.1148 - accuracy: 0.6560 - val_loss: 1.2729 - val_accuracy: 0.6065\n",
      "\n",
      "Epoch 00102: ReduceLROnPlateau reducing learning rate to 0.0004876748775132.\n",
      "Epoch 103/150\n",
      "213/213 [==============================] - 95s 445ms/step - loss: 1.0461 - accuracy: 0.6877 - val_loss: 1.1881 - val_accuracy: 0.6340\n",
      "Epoch 104/150\n"
     ]
    },
    {
     "name": "stdout",
     "output_type": "stream",
     "text": [
      "213/213 [==============================] - 95s 445ms/step - loss: 1.0647 - accuracy: 0.6748 - val_loss: 1.1105 - val_accuracy: 0.6644\n",
      "Epoch 105/150\n",
      "213/213 [==============================] - 95s 445ms/step - loss: 1.0951 - accuracy: 0.6675 - val_loss: 1.1856 - val_accuracy: 0.6238\n",
      "Epoch 106/150\n",
      "213/213 [==============================] - 94s 440ms/step - loss: 1.1199 - accuracy: 0.6631 - val_loss: 1.1241 - val_accuracy: 0.6483\n",
      "Epoch 107/150\n",
      "213/213 [==============================] - 95s 445ms/step - loss: 1.0816 - accuracy: 0.6675 - val_loss: 1.1645 - val_accuracy: 0.6420\n",
      "\n",
      "Epoch 00107: ReduceLROnPlateau reducing learning rate to 0.00046329112810781223.\n",
      "Epoch 108/150\n",
      "213/213 [==============================] - 95s 445ms/step - loss: 1.0369 - accuracy: 0.6802 - val_loss: 1.1131 - val_accuracy: 0.6564\n",
      "Epoch 109/150\n",
      "213/213 [==============================] - 95s 445ms/step - loss: 1.0939 - accuracy: 0.6574 - val_loss: 1.1467 - val_accuracy: 0.6513\n",
      "Epoch 110/150\n",
      "213/213 [==============================] - 94s 443ms/step - loss: 1.0793 - accuracy: 0.6691 - val_loss: 1.1994 - val_accuracy: 0.6309\n",
      "Epoch 111/150\n",
      "213/213 [==============================] - 95s 445ms/step - loss: 1.0535 - accuracy: 0.6728 - val_loss: 1.0838 - val_accuracy: 0.6788\n",
      "Epoch 112/150\n",
      "213/213 [==============================] - 95s 444ms/step - loss: 1.0010 - accuracy: 0.6880 - val_loss: 1.1055 - val_accuracy: 0.6540\n",
      "Epoch 113/150\n",
      "213/213 [==============================] - 93s 438ms/step - loss: 1.0510 - accuracy: 0.6821 - val_loss: 1.2622 - val_accuracy: 0.6067\n",
      "Epoch 114/150\n",
      "213/213 [==============================] - 94s 443ms/step - loss: 1.0257 - accuracy: 0.6926 - val_loss: 1.1785 - val_accuracy: 0.6316\n",
      "\n",
      "Epoch 00114: ReduceLROnPlateau reducing learning rate to 0.00044012657308485355.\n",
      "Epoch 115/150\n",
      "213/213 [==============================] - 94s 441ms/step - loss: 1.0551 - accuracy: 0.6792 - val_loss: 1.1165 - val_accuracy: 0.6634\n",
      "Epoch 116/150\n",
      "213/213 [==============================] - 95s 445ms/step - loss: 1.0684 - accuracy: 0.6771 - val_loss: 1.0832 - val_accuracy: 0.6827\n",
      "Epoch 117/150\n",
      "213/213 [==============================] - 96s 452ms/step - loss: 1.0130 - accuracy: 0.6882 - val_loss: 1.1127 - val_accuracy: 0.6585\n",
      "Epoch 118/150\n",
      "213/213 [==============================] - 94s 444ms/step - loss: 1.0462 - accuracy: 0.6862 - val_loss: 1.1124 - val_accuracy: 0.6664\n",
      "Epoch 119/150\n",
      "213/213 [==============================] - 95s 444ms/step - loss: 0.9856 - accuracy: 0.7034 - val_loss: 1.0944 - val_accuracy: 0.6731\n",
      "\n",
      "Epoch 00119: ReduceLROnPlateau reducing learning rate to 0.00041812024719547477.\n",
      "Epoch 120/150\n",
      "213/213 [==============================] - 95s 447ms/step - loss: 1.0509 - accuracy: 0.6825 - val_loss: 1.1366 - val_accuracy: 0.6476\n",
      "Epoch 121/150\n",
      "213/213 [==============================] - 94s 442ms/step - loss: 1.0530 - accuracy: 0.6778 - val_loss: 1.0883 - val_accuracy: 0.6714\n",
      "Epoch 122/150\n",
      "213/213 [==============================] - 94s 443ms/step - loss: 1.0045 - accuracy: 0.6982 - val_loss: 1.0656 - val_accuracy: 0.6712\n",
      "Epoch 123/150\n",
      "213/213 [==============================] - 94s 443ms/step - loss: 1.0594 - accuracy: 0.6719 - val_loss: 1.1733 - val_accuracy: 0.6347\n",
      "Epoch 124/150\n",
      "213/213 [==============================] - 94s 441ms/step - loss: 1.0359 - accuracy: 0.6846 - val_loss: 1.0728 - val_accuracy: 0.6783\n",
      "Epoch 125/150\n",
      "213/213 [==============================] - 94s 444ms/step - loss: 1.0050 - accuracy: 0.6886 - val_loss: 1.1167 - val_accuracy: 0.6566\n",
      "\n",
      "Epoch 00125: ReduceLROnPlateau reducing learning rate to 0.00039721422654110934.\n",
      "Epoch 126/150\n",
      "213/213 [==============================] - 96s 449ms/step - loss: 1.0047 - accuracy: 0.7020 - val_loss: 1.0511 - val_accuracy: 0.6885\n",
      "Epoch 127/150\n",
      "213/213 [==============================] - 94s 440ms/step - loss: 0.9839 - accuracy: 0.7038 - val_loss: 1.1046 - val_accuracy: 0.6581\n",
      "Epoch 128/150\n",
      "213/213 [==============================] - 94s 443ms/step - loss: 1.0042 - accuracy: 0.6968 - val_loss: 1.0699 - val_accuracy: 0.6812\n",
      "Epoch 129/150\n",
      "213/213 [==============================] - 95s 444ms/step - loss: 0.9797 - accuracy: 0.6998 - val_loss: 1.1270 - val_accuracy: 0.6546\n",
      "\n",
      "Epoch 00129: ReduceLROnPlateau reducing learning rate to 0.00037735351797891776.\n",
      "Epoch 130/150\n",
      "213/213 [==============================] - 95s 446ms/step - loss: 0.9966 - accuracy: 0.7006 - val_loss: 1.1074 - val_accuracy: 0.6632\n",
      "Epoch 131/150\n",
      "213/213 [==============================] - 93s 438ms/step - loss: 0.9878 - accuracy: 0.7069 - val_loss: 1.1134 - val_accuracy: 0.6596\n",
      "Epoch 132/150\n",
      "213/213 [==============================] - 95s 447ms/step - loss: 1.0042 - accuracy: 0.6986 - val_loss: 1.1271 - val_accuracy: 0.6581\n",
      "Epoch 133/150\n",
      "213/213 [==============================] - 94s 441ms/step - loss: 0.9558 - accuracy: 0.7098 - val_loss: 1.1113 - val_accuracy: 0.6632\n",
      "\n",
      "Epoch 00133: ReduceLROnPlateau reducing learning rate to 0.00035848583793267607.\n",
      "Epoch 134/150\n",
      "213/213 [==============================] - 95s 445ms/step - loss: 0.9684 - accuracy: 0.7036 - val_loss: 1.2073 - val_accuracy: 0.6172\n",
      "Epoch 135/150\n",
      "213/213 [==============================] - 95s 447ms/step - loss: 0.9967 - accuracy: 0.6927 - val_loss: 1.0816 - val_accuracy: 0.6814\n",
      "Epoch 136/150\n",
      "213/213 [==============================] - 95s 446ms/step - loss: 0.9866 - accuracy: 0.6959 - val_loss: 1.1530 - val_accuracy: 0.6540\n",
      "Epoch 137/150\n",
      "213/213 [==============================] - 95s 445ms/step - loss: 0.9649 - accuracy: 0.7063 - val_loss: 1.0442 - val_accuracy: 0.6805\n",
      "Epoch 138/150\n",
      "213/213 [==============================] - 95s 444ms/step - loss: 1.0064 - accuracy: 0.6888 - val_loss: 1.0685 - val_accuracy: 0.6724\n",
      "Epoch 139/150\n",
      "213/213 [==============================] - 94s 443ms/step - loss: 0.9712 - accuracy: 0.7065 - val_loss: 1.1324 - val_accuracy: 0.6456\n",
      "Epoch 140/150\n",
      "213/213 [==============================] - 98s 459ms/step - loss: 0.9688 - accuracy: 0.7051 - val_loss: 1.1430 - val_accuracy: 0.6491\n",
      "\n",
      "Epoch 00140: ReduceLROnPlateau reducing learning rate to 0.00034056155709549785.\n",
      "Epoch 141/150\n",
      "213/213 [==============================] - 94s 443ms/step - loss: 0.9470 - accuracy: 0.7162 - val_loss: 1.1312 - val_accuracy: 0.6489\n",
      "Epoch 142/150\n",
      "213/213 [==============================] - 95s 448ms/step - loss: 0.9304 - accuracy: 0.7208 - val_loss: 1.0861 - val_accuracy: 0.6749\n",
      "Epoch 143/150\n",
      "213/213 [==============================] - 95s 446ms/step - loss: 0.9716 - accuracy: 0.7030 - val_loss: 1.1632 - val_accuracy: 0.6469\n",
      "Epoch 144/150\n",
      "213/213 [==============================] - 95s 446ms/step - loss: 0.9633 - accuracy: 0.7113 - val_loss: 1.1005 - val_accuracy: 0.6664\n",
      "\n",
      "Epoch 00144: ReduceLROnPlateau reducing learning rate to 0.00032353347924072293.\n",
      "Epoch 145/150\n",
      "213/213 [==============================] - 95s 448ms/step - loss: 0.9237 - accuracy: 0.7203 - val_loss: 1.0716 - val_accuracy: 0.6705\n",
      "Epoch 146/150\n",
      "213/213 [==============================] - 94s 442ms/step - loss: 0.9259 - accuracy: 0.7193 - val_loss: 1.0491 - val_accuracy: 0.6775\n",
      "Epoch 147/150\n",
      "213/213 [==============================] - 94s 443ms/step - loss: 0.9238 - accuracy: 0.7193 - val_loss: 1.0565 - val_accuracy: 0.6850\n",
      "Epoch 148/150\n",
      "213/213 [==============================] - 95s 444ms/step - loss: 0.9181 - accuracy: 0.7213 - val_loss: 1.0334 - val_accuracy: 0.6997\n",
      "Epoch 149/150\n",
      "213/213 [==============================] - 95s 448ms/step - loss: 0.8772 - accuracy: 0.7381 - val_loss: 1.0246 - val_accuracy: 0.6895\n",
      "Epoch 150/150\n",
      "213/213 [==============================] - 95s 447ms/step - loss: 0.8842 - accuracy: 0.7290 - val_loss: 1.1201 - val_accuracy: 0.6562\n"
     ]
    }
   ],
   "source": [
    "hist = model.fit_generator(\n",
    "    train_generator,\n",
    "    steps_per_epoch=steps_per_epoch,\n",
    "    validation_data=validation_generator,\n",
    "    validation_steps=val_steps,\n",
    "    epochs=150,\n",
    "    verbose=1,\n",
    "    callbacks=[reduceLROnPlat])"
   ]
  },
  {
   "cell_type": "code",
   "execution_count": 29,
   "metadata": {},
   "outputs": [
    {
     "name": "stdout",
     "output_type": "stream",
     "text": [
      "val_loss = 1.079 and val_acc = 0.683\n"
     ]
    }
   ],
   "source": [
    "score = model.evaluate(X_test, y_test, verbose=0)\n",
    "print(\"val_loss = {:.3f} and val_acc = {:.3f}\".format(score[0], score[1]))"
   ]
  },
  {
   "cell_type": "code",
   "execution_count": 30,
   "metadata": {},
   "outputs": [
    {
     "data": {
      "image/png": "[encoded data removed]",
      "text/plain": [
       "<Figure size 1080x504 with 2 Axes>"
      ]
     },
     "metadata": {
      "needs_background": "light"
     },
     "output_type": "display_data"
    }
   ],
   "source": [
    "plt.figure(figsize=(15,7))\n",
    "\n",
    "plt.subplot(1,2,1)\n",
    "plt.plot(hist.history['accuracy'], label='train')\n",
    "plt.plot(hist.history['val_accuracy'], label='validation')\n",
    "plt.title('Accuracy')\n",
    "plt.xlabel('Epochs')\n",
    "plt.ylabel('Accuracy')\n",
    "plt.legend()\n",
    "\n",
    "plt.subplot(1,2,2)\n",
    "plt.plot(hist.history['loss'], label='train')\n",
    "plt.plot(hist.history['val_loss'], label='validation')\n",
    "plt.title('Loss')\n",
    "plt.xlabel('Epochs')\n",
    "plt.ylabel('Loss')\n",
    "plt.legend()\n",
    "\n",
    "plt.tight_layout()\n",
    "plt.show()"
   ]
  },
  {
   "cell_type": "code",
   "execution_count": 31,
   "metadata": {},
   "outputs": [],
   "source": [
    "#http://scikit-learn.org/stable/auto_examples/model_selection/plot_confusion_matrix.html\n",
    "def plot_confusion_matrix(cm, classes,\n",
    "                          normalize=False,\n",
    "                          title='Confusion matrix',\n",
    "                          cmap=plt.cm.Blues):\n",
    "    \"\"\"\n",
    "    This function prints and plots the confusion matrix.\n",
    "    Normalization can be applied by setting `normalize=True`.\n",
    "    \"\"\"\n",
    "    if normalize:\n",
    "        cm = cm.astype('float') / cm.sum(axis=1)[:, np.newaxis]\n",
    "        print(\"Normalized confusion matrix\")\n",
    "    else:\n",
    "        print('Confusion matrix, without normalization')\n",
    "\n",
    "    plt.imshow(cm, interpolation='nearest', cmap=cmap)\n",
    "    plt.title(title)\n",
    "    plt.colorbar()\n",
    "    tick_marks = np.arange(len(classes))\n",
    "    plt.xticks(tick_marks, classes, rotation=45)\n",
    "    plt.yticks(tick_marks, classes)\n",
    "\n",
    "    fmt = '.2f' if normalize else 'd'\n",
    "    thresh = cm.max() / 2.\n",
    "    for i, j in itertools.product(range(cm.shape[0]), range(cm.shape[1])):\n",
    "        plt.text(j, i, format(cm[i, j], fmt),\n",
    "                 horizontalalignment=\"center\",\n",
    "                 color=\"white\" if cm[i, j] > thresh else \"black\")\n",
    "\n",
    "    plt.tight_layout()\n",
    "    plt.ylabel('True label')\n",
    "    plt.xlabel('Predicted label')"
   ]
  },
  {
   "cell_type": "code",
   "execution_count": 32,
   "metadata": {},
   "outputs": [],
   "source": [
    "preds = np.argmax(model.predict(X_test), axis = 1)\n",
    "y_orig = np.argmax(y_test, axis = 1)\n",
    "cm = confusion_matrix(preds, y_orig)"
   ]
  },
  {
   "cell_type": "code",
   "execution_count": 33,
   "metadata": {},
   "outputs": [
    {
     "name": "stdout",
     "output_type": "stream",
     "text": [
      "Normalized confusion matrix\n"
     ]
    },
    {
     "data": {
      "image/png": "[encoded data removed]",
      "text/plain": [
       "<Figure size 720x720 with 2 Axes>"
      ]
     },
     "metadata": {
      "needs_background": "light"
     },
     "output_type": "display_data"
    }
   ],
   "source": [
    "keys = OrderedDict(sorted(genres.items(), key=lambda t: t[1])).keys()\n",
    "\n",
    "plt.figure(figsize=(10,10))\n",
    "plot_confusion_matrix(cm, keys, normalize=True)"
   ]
  },
  {
   "cell_type": "markdown",
   "metadata": {},
   "source": [
    "## Majority Vote"
   ]
  },
  {
   "cell_type": "code",
   "execution_count": 34,
   "metadata": {},
   "outputs": [],
   "source": [
    "def majority_vote(scores):\n",
    "    values, counts = np.unique(scores,return_counts=True)\n",
    "    ind = np.argmax(counts)\n",
    "    return values[ind]"
   ]
  },
  {
   "cell_type": "code",
   "execution_count": 35,
   "metadata": {},
   "outputs": [],
   "source": [
    "preds = model.predict(X_test, batch_size=128, verbose=0)"
   ]
  },
  {
   "cell_type": "code",
   "execution_count": 36,
   "metadata": {},
   "outputs": [],
   "source": [
    "# Each sound was divided into 39 segments in our custom function\n",
    "scores_songs = np.split(np.argmax(preds, axis=1), 300)\n",
    "scores_songs = [majority_vote(scores) for scores in scores_songs]"
   ]
  },
  {
   "cell_type": "code",
   "execution_count": 37,
   "metadata": {},
   "outputs": [],
   "source": [
    "# Same analysis for split\n",
    "label = np.split(np.argmax(y_test, axis=1), 300)\n",
    "label = [majority_vote(l) for l in label]"
   ]
  },
  {
   "cell_type": "code",
   "execution_count": 38,
   "metadata": {},
   "outputs": [
    {
     "name": "stdout",
     "output_type": "stream",
     "text": [
      "majority voting system (acc) = 0.767\n"
     ]
    }
   ],
   "source": [
    "from sklearn.metrics import accuracy_score\n",
    "\n",
    "print(\"majority voting system (acc) = {:.3f}\".format(accuracy_score(label, scores_songs)))"
   ]
  },
  {
   "cell_type": "markdown",
   "metadata": {},
   "source": [
    "Compared to the classical approach, we are winning now!\n",
    "We have achieved an accuracy of **76.7%** with just 150 epochs. It is not a great improvement but this is a really simple architecture."
   ]
  },
  {
   "cell_type": "markdown",
   "metadata": {},
   "source": [
    "## Save the model"
   ]
  },
  {
   "cell_type": "code",
   "execution_count": 39,
   "metadata": {},
   "outputs": [],
   "source": [
    "# Save the model\n",
    "model.save('../models/custom_cnn_2d.h5')"
   ]
  }
 ],
 "metadata": {
  "kernelspec": {
   "display_name": "Python 3 (ipykernel)",
   "language": "python",
   "name": "python3"
  },
  "language_info": {
   "codemirror_mode": {
    "name": "ipython",
    "version": 3
   },
   "file_extension": ".py",
   "mimetype": "text/x-python",
   "name": "python",
   "nbconvert_exporter": "python",
   "pygments_lexer": "ipython3",
   "version": "3.9.7"
  }
 },
 "nbformat": 4,
 "nbformat_minor": 2
}
